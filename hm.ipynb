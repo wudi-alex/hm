{
 "cells": [
  {
   "cell_type": "code",
   "execution_count": 1,
   "id": "184f0554-c16d-441c-a8d0-1a114a1fa10e",
   "metadata": {},
   "outputs": [],
   "source": [
    "import numpy as np\n",
    "import pandas as pd\n",
    "import seaborn as sns\n",
    "from matplotlib import pyplot as plt\n",
    "from tqdm.notebook import tqdm"
   ]
  },
  {
   "cell_type": "markdown",
   "id": "c47fd7af-ff51-4694-8d9e-f07c7bd5fa94",
   "metadata": {},
   "source": [
    "### train 总共31788324个数据，customer 1371980，articles 105542, submit 1371980\n",
    "### train 里不同customer_id 1362281, 接近10000的customer_id 没有出现\n",
    "### train 里不同activle_id 104547\n",
    "### train 里不同顾客在不同日期购买不同商品 数量28575395"
   ]
  },
  {
   "cell_type": "code",
   "execution_count": 2,
   "id": "5c0c283b-e857-4079-934d-fb7fe1f1b72c",
   "metadata": {},
   "outputs": [],
   "source": [
    "train = pd.read_csv('data/transactions_train.csv')\n",
    "articles=pd.read_csv('data/articles.csv')\n",
    "customers=pd.read_csv('data/customers.csv')"
   ]
  },
  {
   "cell_type": "code",
   "execution_count": 3,
   "id": "45fe2637-fd5e-4558-85e2-b0f05133f428",
   "metadata": {},
   "outputs": [],
   "source": [
    "train['customer_id'] =train['customer_id'].apply(lambda x: int(x[-16:],16) ).astype('int64')\n",
    "customers['customer_id'] =customers['customer_id'].apply(lambda x: int(x[-16:],16) ).astype('int64')\n",
    "train['article_id'] = train['article_id'].astype('int32')\n",
    "articles['article_id'] = articles['article_id'].astype('int32')"
   ]
  },
  {
   "cell_type": "code",
   "execution_count": 4,
   "id": "38e784c9-bce0-4947-bee6-eb2ed26423bc",
   "metadata": {},
   "outputs": [],
   "source": [
    "train.t_dat = pd.to_datetime( train.t_dat )\n",
    "train['year'] = (train.t_dat.dt.year-2000).astype('int8')\n",
    "train['month'] = (train.t_dat.dt.month).astype('int8')\n",
    "train['day'] = (train.t_dat.dt.day).astype('int8')"
   ]
  },
  {
   "cell_type": "code",
   "execution_count": 5,
   "id": "dba443b7-4d1b-4321-916d-c260ef4c5c19",
   "metadata": {},
   "outputs": [],
   "source": [
    "submit=pd.read_csv('data/sample_submission.csv')\n",
    "submit['customer_id']=submit['customer_id'].apply(lambda x: int(x[-16:],16) ).astype('int64')"
   ]
  },
  {
   "cell_type": "code",
   "execution_count": 6,
   "id": "00669808-e027-4c56-9036-007c960eceb5",
   "metadata": {},
   "outputs": [],
   "source": [
    "def plot_out(df,x):\n",
    "    sns.set_style(\"darkgrid\")\n",
    "    f, ax = plt.subplots(figsize=(10,5))\n",
    "    ax = sns.boxplot(data=df, x=x, color='orange')\n",
    "    ax.set_xlabel('outliers')\n",
    "    plt.show()"
   ]
  },
  {
   "cell_type": "code",
   "execution_count": 7,
   "id": "e8e46fbd-816c-4c1f-af1c-c45b6bb3f43f",
   "metadata": {},
   "outputs": [],
   "source": [
    "def look_at_customer(customer_id):\n",
    "    print('customer_id is ', customer_id)\n",
    "    print('his purchase num is', len(train[train['customer_id']==customer_id]['customer_id']))\n",
    "    print('his purchase day num is', train[train['customer_id']==customer_id].t_dat.nunique())\n",
    "    print('his purchase article num is',train[train['customer_id']==customer_id].article_id.nunique())"
   ]
  },
  {
   "cell_type": "code",
   "execution_count": 8,
   "id": "8a36f8ad-f2a2-4a12-8797-24c37b4699eb",
   "metadata": {},
   "outputs": [],
   "source": [
    "## 添加article最早上市时间\n",
    "article_time_df=train[['t_dat','article_id']].groupby('article_id').min().reset_index().rename(columns={'t_dat':'article_launch_time'}).sort_values('article_launch_time', ascending=False)\n",
    "articles=articles.merge(article_time_df,how='left',on=['article_id'])\n",
    "del article_time_df\n",
    "articles=articles[~np.isnan(articles['article_launch_time'])]"
   ]
  },
  {
   "cell_type": "code",
   "execution_count": 9,
   "id": "4d0f2fb2-bbc5-463b-8835-9df6818a40b4",
   "metadata": {},
   "outputs": [],
   "source": [
    "## 添加article上市时间特征\n",
    "articles['article_launch_year'] = (articles.article_launch_time.dt.year-2000).astype('int8')\n",
    "articles['article_launch_month'] = (articles.article_launch_time.dt.month).astype('int8')\n",
    "articles['article_launch_day'] = (articles.article_launch_time.dt.day).astype('int8')\n",
    "articles['article_launch_bin']=articles['article_launch_month'].apply(lambda x:x//3.5).astype('int8')\n",
    "del articles['article_launch_time']"
   ]
  },
  {
   "cell_type": "code",
   "execution_count": 10,
   "id": "91f5fc5a-ce42-4c9a-976d-6ef217cfe71a",
   "metadata": {},
   "outputs": [],
   "source": [
    "## 添加顾客最早购买时间\n",
    "customer_time_df=train[['t_dat','customer_id']].groupby('customer_id').min().reset_index().rename(columns={'t_dat':'customer_launch_time'})\n",
    "customers=customers.merge(customer_time_df,how='left',on=['customer_id'])\n",
    "del customer_time_df\n",
    "customers=customers[~np.isnan(customers['customer_launch_time'])]\n",
    "customers['customer_launch_year'] = (customers.customer_launch_time.dt.year-2000).astype('int8')\n",
    "customers['customer_launch_month'] = (customers.customer_launch_time.dt.month).astype('int8')\n",
    "customers['customer_launch_day'] = (customers.customer_launch_time.dt.day).astype('int8')"
   ]
  },
  {
   "cell_type": "code",
   "execution_count": 11,
   "id": "5c45778c-bc1e-4fb4-80a8-31ea8bfbff6a",
   "metadata": {},
   "outputs": [],
   "source": [
    "## 添加顾客 总购买数^，购买天数^，购买种类数^，\n",
    "## 平均购买间隔，最高购买间隔，\n",
    "## 总购买数^，平均天购买数^，平均种类购买件数^，最高种类购买数，最高天购买数，\n",
    "## 总购买金额^，平均天购买金额^,平均种类购买金额^,最高种类购买金额=max(种类购买金额），最高天购买金额=max(天购买金额）\n",
    "agg_dict={'t_dat':['count', 'nunique', 'max'], 'article_id':['nunique'],'price':['sum','mean','max','min','median','std']}\n",
    "customer_df=train[['customer_id','t_dat','article_id','price']].groupby('customer_id').agg(agg_dict).reset_index()\n",
    "customer_df.columns=['customer_id','total_purchase_num',\n",
    "                     'total_purchase_day_num','recent_purchase_day',\n",
    "                     'purchase_unique_article_num',\n",
    "                     'total_cost','mean_cost','max_unit_cost','min_unit_cost','median_unit_cost','std_unit_cost']\n",
    "customer_df['avg_article_purchase_num']=customer_df['total_purchase_num']/customer_df['purchase_unique_article_num']\n",
    "customer_df['avg_day_purchase_num']=customer_df['total_purchase_num']/customer_df['total_purchase_day_num']\n",
    "customer_df['avg_day_cost']=customer_df['total_cost']/customer_df['total_purchase_day_num']\n",
    "customer_df['avg_article_cost']=customer_df['total_cost']/customer_df['purchase_unique_article_num']"
   ]
  },
  {
   "cell_type": "code",
   "execution_count": 12,
   "id": "575e7fb3-7c2b-456d-9d64-faf4a0c5460f",
   "metadata": {},
   "outputs": [],
   "source": [
    "customer_day_cnt_df=train.groupby(['customer_id','t_dat'])['price'].count().reset_index().rename(columns={'price':'customer_day_cnt'}).groupby('customer_id')['customer_day_cnt'].max().reset_index().rename(columns={'customer_day_cnt':'customer_max_day_cnt'})\n",
    "customer_day_cost_df=train.groupby(['customer_id','t_dat'])['price'].sum().reset_index().rename(columns={'price':'customer_day_cost'}).groupby('customer_id')['customer_day_cost'].max().reset_index().rename(columns={'customer_day_cost':'customer_max_day_cost'})\n",
    "customer_article_cnt_df=train.groupby(['customer_id','article_id'])['price'].count().reset_index().rename(columns={'price':'customer_article_cnt'}).groupby('customer_id')['customer_article_cnt'].max().reset_index().rename(columns={'customer_article_cnt':'customer_max_article_cnt'})\n",
    "customer_article_cost_df=train.groupby(['customer_id','article_id'])['price'].sum().reset_index().rename(columns={'price':'customer_article_cost'}).groupby('customer_id')['customer_article_cost'].max().reset_index().rename(columns={'customer_article_cost':'customer_max_article_cost'})\n",
    "customer_df=customer_df.merge(customer_day_cnt_df, how='left', on=['customer_id'])\n",
    "customer_df=customer_df.merge(customer_day_cost_df, how='left', on=['customer_id'])\n",
    "customer_df=customer_df.merge(customer_article_cnt_df, how='left', on=['customer_id'])\n",
    "customer_df=customer_df.merge(customer_article_cost_df, how='left', on=['customer_id'])\n",
    "del customer_day_cnt_df\n",
    "del customer_day_cost_df\n",
    "del customer_article_cnt_df\n",
    "del customer_article_cost_df"
   ]
  },
  {
   "cell_type": "code",
   "execution_count": 13,
   "id": "dd22d95c-4ef6-4367-a8c8-d9fa155c1b96",
   "metadata": {},
   "outputs": [],
   "source": [
    "customers=customers.merge(customer_df,how='left',on='customer_id')\n",
    "del customer_df"
   ]
  },
  {
   "cell_type": "code",
   "execution_count": 14,
   "id": "2478bc12-c432-4310-99b9-e2c801702201",
   "metadata": {},
   "outputs": [],
   "source": [
    "customers['day_duration']=(customers['recent_purchase_day']-customers['customer_launch_time']).dt.days"
   ]
  },
  {
   "cell_type": "code",
   "execution_count": 15,
   "id": "c8ae7774-1ac6-4e22-9132-543ad35a6562",
   "metadata": {},
   "outputs": [],
   "source": [
    "day_diff_df=train[['customer_id','t_dat']].drop_duplicates()"
   ]
  },
  {
   "cell_type": "code",
   "execution_count": 16,
   "id": "248b74fb-e745-4a0d-9c4f-bc39afb6ca0d",
   "metadata": {},
   "outputs": [],
   "source": [
    "def cal_mean_day_diff(dats):\n",
    "    dats=dats.values\n",
    "    if len(dats)==1:\n",
    "        return None\n",
    "    dats.sort()\n",
    "    res=[]\n",
    "    for i in range(1,len(dats)):\n",
    "        day0,day1=np.datetime64(dats[i-1]),np.datetime64(dats[i])\n",
    "        diff=(day1-day0)/np.timedelta64(1, 'D')\n",
    "        res.append(diff)\n",
    "    return sum(res)/len(res)\n",
    "\n",
    "def cal_max_day_diff(dats):\n",
    "    dats=dats.values\n",
    "    if len(dats)==1:\n",
    "        return None\n",
    "    dats.sort()\n",
    "    res=[]\n",
    "    for i in range(1,len(dats)):\n",
    "        day0,day1=np.datetime64(dats[i-1]),np.datetime64(dats[i])\n",
    "        diff=(day1-day0)/np.timedelta64(1, 'D')\n",
    "        res.append(diff)\n",
    "    return max(res)"
   ]
  },
  {
   "cell_type": "code",
   "execution_count": 17,
   "id": "c8e7af30-e460-41f1-b5b3-6e7539b8642e",
   "metadata": {},
   "outputs": [],
   "source": [
    "mean_day_diff_df=day_diff_df.groupby('customer_id').agg(cal_mean_day_diff).reset_index()\n",
    "max_day_diff_df=day_diff_df.groupby('customer_id').agg(cal_max_day_diff).reset_index()\n",
    "mean_day_diff_df.columns=[\"customer_id\",\"mean_purchase_day_diff\"]\n",
    "max_day_diff_df.columns=[\"customer_id\",\"max_purchase_day_diff\"]"
   ]
  },
  {
   "cell_type": "code",
   "execution_count": 18,
   "id": "2b097db6-ce41-46e8-a3e3-c11334e859f9",
   "metadata": {},
   "outputs": [],
   "source": [
    "customers=customers.merge(mean_day_diff_df, how='left', on=['customer_id'])\n",
    "customers=customers.merge(max_day_diff_df, how='left', on=['customer_id'])\n",
    "del mean_day_diff_df\n",
    "del max_day_diff_df\n",
    "del day_diff_df"
   ]
  },
  {
   "cell_type": "code",
   "execution_count": 19,
   "id": "e7d4243c-6c45-4399-849f-20ea456e68fb",
   "metadata": {},
   "outputs": [],
   "source": [
    "customer_purchase_cluster_features=['total_purchase_num',\n",
    "                     'total_purchase_day_num',\n",
    "                     'purchase_unique_article_num',\n",
    "                     'total_cost','mean_cost','max_unit_cost','min_unit_cost','median_unit_cost','std_unit_cost',\n",
    "                     'avg_article_purchase_num','avg_day_purchase_num','avg_day_cost','avg_article_cost',\n",
    "                      \"mean_purchase_day_diff\",\"max_purchase_day_diff\"]"
   ]
  },
  {
   "cell_type": "code",
   "execution_count": 33,
   "id": "b2d5cb83-654b-45c8-8ffc-0078f289a679",
   "metadata": {},
   "outputs": [],
   "source": [
    "## 移除总购买数超过300件顾客数据\n",
    "remove_customers=list(customers[customers['total_purchase_num']>300].customer_id.values)\n",
    "customers_1=customers[customers['total_purchase_num']>300]\n",
    "train_1=train.merge(customers_1['customer_id'],on=['customer_id'])"
   ]
  },
  {
   "cell_type": "code",
   "execution_count": 34,
   "id": "6d757b8b-cacd-4c26-a1c6-baa035c23ddd",
   "metadata": {},
   "outputs": [
    {
     "data": {
      "text/html": [
       "<div>\n",
       "<style scoped>\n",
       "    .dataframe tbody tr th:only-of-type {\n",
       "        vertical-align: middle;\n",
       "    }\n",
       "\n",
       "    .dataframe tbody tr th {\n",
       "        vertical-align: top;\n",
       "    }\n",
       "\n",
       "    .dataframe thead th {\n",
       "        text-align: right;\n",
       "    }\n",
       "</style>\n",
       "<table border=\"1\" class=\"dataframe\">\n",
       "  <thead>\n",
       "    <tr style=\"text-align: right;\">\n",
       "      <th></th>\n",
       "      <th>t_dat</th>\n",
       "      <th>customer_id</th>\n",
       "      <th>article_id</th>\n",
       "      <th>price</th>\n",
       "      <th>sales_channel_id</th>\n",
       "      <th>year</th>\n",
       "      <th>month</th>\n",
       "      <th>day</th>\n",
       "    </tr>\n",
       "  </thead>\n",
       "  <tbody>\n",
       "    <tr>\n",
       "      <th>0</th>\n",
       "      <td>2018-09-20</td>\n",
       "      <td>1223295072238483821</td>\n",
       "      <td>562252010</td>\n",
       "      <td>0.016932</td>\n",
       "      <td>2</td>\n",
       "      <td>18</td>\n",
       "      <td>9</td>\n",
       "      <td>20</td>\n",
       "    </tr>\n",
       "    <tr>\n",
       "      <th>1</th>\n",
       "      <td>2018-09-20</td>\n",
       "      <td>1223295072238483821</td>\n",
       "      <td>574120001</td>\n",
       "      <td>0.027102</td>\n",
       "      <td>2</td>\n",
       "      <td>18</td>\n",
       "      <td>9</td>\n",
       "      <td>20</td>\n",
       "    </tr>\n",
       "    <tr>\n",
       "      <th>2</th>\n",
       "      <td>2018-09-20</td>\n",
       "      <td>1223295072238483821</td>\n",
       "      <td>574120001</td>\n",
       "      <td>0.027102</td>\n",
       "      <td>2</td>\n",
       "      <td>18</td>\n",
       "      <td>9</td>\n",
       "      <td>20</td>\n",
       "    </tr>\n",
       "    <tr>\n",
       "      <th>3</th>\n",
       "      <td>2018-09-20</td>\n",
       "      <td>1223295072238483821</td>\n",
       "      <td>212042043</td>\n",
       "      <td>0.008458</td>\n",
       "      <td>2</td>\n",
       "      <td>18</td>\n",
       "      <td>9</td>\n",
       "      <td>20</td>\n",
       "    </tr>\n",
       "    <tr>\n",
       "      <th>4</th>\n",
       "      <td>2018-09-20</td>\n",
       "      <td>1223295072238483821</td>\n",
       "      <td>590951007</td>\n",
       "      <td>0.008458</td>\n",
       "      <td>2</td>\n",
       "      <td>18</td>\n",
       "      <td>9</td>\n",
       "      <td>20</td>\n",
       "    </tr>\n",
       "    <tr>\n",
       "      <th>...</th>\n",
       "      <td>...</td>\n",
       "      <td>...</td>\n",
       "      <td>...</td>\n",
       "      <td>...</td>\n",
       "      <td>...</td>\n",
       "      <td>...</td>\n",
       "      <td>...</td>\n",
       "      <td>...</td>\n",
       "    </tr>\n",
       "    <tr>\n",
       "      <th>1325204</th>\n",
       "      <td>2020-07-09</td>\n",
       "      <td>2466263766178831433</td>\n",
       "      <td>554477007</td>\n",
       "      <td>0.010153</td>\n",
       "      <td>2</td>\n",
       "      <td>20</td>\n",
       "      <td>7</td>\n",
       "      <td>9</td>\n",
       "    </tr>\n",
       "    <tr>\n",
       "      <th>1325205</th>\n",
       "      <td>2020-07-09</td>\n",
       "      <td>2466263766178831433</td>\n",
       "      <td>554477007</td>\n",
       "      <td>0.010153</td>\n",
       "      <td>2</td>\n",
       "      <td>20</td>\n",
       "      <td>7</td>\n",
       "      <td>9</td>\n",
       "    </tr>\n",
       "    <tr>\n",
       "      <th>1325206</th>\n",
       "      <td>2020-07-09</td>\n",
       "      <td>2466263766178831433</td>\n",
       "      <td>554477007</td>\n",
       "      <td>0.010153</td>\n",
       "      <td>2</td>\n",
       "      <td>20</td>\n",
       "      <td>7</td>\n",
       "      <td>9</td>\n",
       "    </tr>\n",
       "    <tr>\n",
       "      <th>1325207</th>\n",
       "      <td>2020-07-09</td>\n",
       "      <td>2466263766178831433</td>\n",
       "      <td>514577020</td>\n",
       "      <td>0.006763</td>\n",
       "      <td>2</td>\n",
       "      <td>20</td>\n",
       "      <td>7</td>\n",
       "      <td>9</td>\n",
       "    </tr>\n",
       "    <tr>\n",
       "      <th>1325208</th>\n",
       "      <td>2020-07-09</td>\n",
       "      <td>2466263766178831433</td>\n",
       "      <td>803592003</td>\n",
       "      <td>0.011847</td>\n",
       "      <td>2</td>\n",
       "      <td>20</td>\n",
       "      <td>7</td>\n",
       "      <td>9</td>\n",
       "    </tr>\n",
       "  </tbody>\n",
       "</table>\n",
       "<p>1325209 rows × 8 columns</p>\n",
       "</div>"
      ],
      "text/plain": [
       "             t_dat          customer_id  article_id     price  \\\n",
       "0       2018-09-20  1223295072238483821   562252010  0.016932   \n",
       "1       2018-09-20  1223295072238483821   574120001  0.027102   \n",
       "2       2018-09-20  1223295072238483821   574120001  0.027102   \n",
       "3       2018-09-20  1223295072238483821   212042043  0.008458   \n",
       "4       2018-09-20  1223295072238483821   590951007  0.008458   \n",
       "...            ...                  ...         ...       ...   \n",
       "1325204 2020-07-09  2466263766178831433   554477007  0.010153   \n",
       "1325205 2020-07-09  2466263766178831433   554477007  0.010153   \n",
       "1325206 2020-07-09  2466263766178831433   554477007  0.010153   \n",
       "1325207 2020-07-09  2466263766178831433   514577020  0.006763   \n",
       "1325208 2020-07-09  2466263766178831433   803592003  0.011847   \n",
       "\n",
       "         sales_channel_id  year  month  day  \n",
       "0                       2    18      9   20  \n",
       "1                       2    18      9   20  \n",
       "2                       2    18      9   20  \n",
       "3                       2    18      9   20  \n",
       "4                       2    18      9   20  \n",
       "...                   ...   ...    ...  ...  \n",
       "1325204                 2    20      7    9  \n",
       "1325205                 2    20      7    9  \n",
       "1325206                 2    20      7    9  \n",
       "1325207                 2    20      7    9  \n",
       "1325208                 2    20      7    9  \n",
       "\n",
       "[1325209 rows x 8 columns]"
      ]
     },
     "execution_count": 34,
     "metadata": {},
     "output_type": "execute_result"
    }
   ],
   "source": [
    "train_1"
   ]
  },
  {
   "cell_type": "code",
   "execution_count": null,
   "id": "e905698d-e30a-4f8a-884d-02786bfb3c74",
   "metadata": {},
   "outputs": [],
   "source": []
  }
 ],
 "metadata": {
  "kernelspec": {
   "display_name": "default",
   "language": "python",
   "name": "default"
  },
  "language_info": {
   "codemirror_mode": {
    "name": "ipython",
    "version": 3
   },
   "file_extension": ".py",
   "mimetype": "text/x-python",
   "name": "python",
   "nbconvert_exporter": "python",
   "pygments_lexer": "ipython3",
   "version": "3.7.10"
  }
 },
 "nbformat": 4,
 "nbformat_minor": 5
}
